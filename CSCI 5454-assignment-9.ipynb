{
 "cells": [
  {
   "cell_type": "markdown",
   "metadata": {},
   "source": [
    "# CSCI 5454: Assignment 9\n",
    "\n",
    "The assignment may require you to add images to describe solutions. Please include those images with your submission and upload a ZIP file. How to embed an image inside a Jupyter notebook?\n",
    "\n",
    "- Place image in same directory as notebook.\n",
    "- Use HTML tags\n",
    "\n",
    "~~~\n",
    "<img src = \"filename.JPG\" width=\"XX%\">\n",
    "~~~\n",
    "\n",
    "__Example:__\n",
    "\n",
    "<img src=\"https://upload.wikimedia.org/wikipedia/commons/thumb/1/11/GLPK_solution_of_a_travelling_salesman_problem.svg/512px-GLPK_solution_of_a_travelling_salesman_problem.svg.png\" width=\"30%\" >\n"
   ]
  },
  {
   "cell_type": "markdown",
   "metadata": {},
   "source": [
    "## Problem 1: Approximation Ratio For Minimum Makespan Job Scheduling (15 points)\n",
    "\n",
    "In class we studied a greedy approach for distributing $n$ jobs among $m$ processors to achieve\n",
    "a factor $2$ approximation to the optimal solution. In fact, a slightly more careful analysis will\n",
    "show that this factor is actually $2 - \\frac{1}{m}$.\n",
    "\n",
    "For each value of $m$ design $n = m(m-1) + 1$ jobs such that the greedy algorithm's solution\n",
    "is $\\alpha = 2-\\frac{1}{m}$ times the actual optimum.\n",
    "\n",
    "** Hint : ** Create a bunch of \"tiny\" jobs and one big job. How do you make sure that the performance of\n",
    "greedy will be $\\alpha$ times worse than the optimum?"
   ]
  },
  {
   "cell_type": "markdown",
   "metadata": {},
   "source": [
    "## Answer 1 (Expected Size: 6 lines).\n",
    "\n",
    "\n",
    "\n",
    "Greedy algorithm allocates m-1 tiny jobs of, say, 1second to all servers and then it allocates big job of m second to a server then that server determines the makespan such that it is addition of big job of m and m-1 tiny jobs. \n",
    "\n",
    "Makespan of Greedy algorithm = m+m-1 = 2m-1\n",
    "\n",
    "Best algorithm will give an optimal solution which allocates the biggest job of m seconds to a server and allocates rest of the jobs to other servers.\n",
    "\n",
    "Makespan of Optial algorithm = m\n",
    "$$\\text{Makespan of Greedy algorithm} = \\alpha \\text{Makespan of Optimal algorithm}$$\n",
    "$$\\alpha = \\frac{\\text{Makespan of Greedy algorithm}}{\\text{Makespan of Optimal algorithm}}$$\n",
    "$$\\alpha = \\frac{2m-1}{m}$$\n",
    "$$\\alpha = 2 - \\frac{1}{m}$$"
   ]
  },
  {
   "cell_type": "markdown",
   "metadata": {},
   "source": [
    "## Problem 2: Worst Case for Greedy Vertex Cover (10 Points)\n",
    "\n",
    "We examined a factor 2 approximation for vertex cover in class (see Jeff Erikson's notes).\n",
    "Describe a family of examples consisting of a graph $G_n$ for any $n$ with\n",
    "$n$ vertices wherein the greedy algorithm's vertex cover on $G_n$ is precisely twice as large as\n",
    "the optimal vertex cover."
   ]
  },
  {
   "cell_type": "markdown",
   "metadata": {},
   "source": [
    "## Answer 2 (Expected Size: 5 lines)\n",
    "Family of graphs which gives twices as large as the optimal vertex cover : Bipartite graphs\n",
    "\n",
    "Bipartite graphs: It is a set of graph whose vertices can be divided into two disjoint sets such that vertices of set1 are joined to vertices of set2  and there are no two adjacent vertices present within the same set.\n",
    "\n",
    "\n",
    "for example:\n",
    "\n",
    "<img src = \"bipartile graphs.PNG\" width=\"30%\">\n"
   ]
  },
  {
   "cell_type": "code",
   "execution_count": null,
   "metadata": {},
   "outputs": [],
   "source": []
  }
 ],
 "metadata": {
  "kernelspec": {
   "display_name": "Python 3",
   "language": "python",
   "name": "python3"
  },
  "language_info": {
   "codemirror_mode": {
    "name": "ipython",
    "version": 3
   },
   "file_extension": ".py",
   "mimetype": "text/x-python",
   "name": "python",
   "nbconvert_exporter": "python",
   "pygments_lexer": "ipython3",
   "version": "3.7.1"
  }
 },
 "nbformat": 4,
 "nbformat_minor": 2
}
