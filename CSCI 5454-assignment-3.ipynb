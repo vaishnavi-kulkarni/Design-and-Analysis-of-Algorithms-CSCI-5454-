{
 "cells": [
  {
   "cell_type": "markdown",
   "metadata": {},
   "source": [
    " # CSCI 5454 Assignment 3 \n",
    "\n",
    "Your Name Here: __ Vaishnavi Kulkarni __ "
   ]
  },
  {
   "cell_type": "markdown",
   "metadata": {},
   "source": [
    "## Problem 1: Axioms of Probability (20 points)\n",
    "\n",
    "Let $A$ be a sample space with a set of events $\\{ \\emptyset, E_1, \\ldots, E_n, A \\}$.  We covered the basic axioms\n",
    "of probability in class and recall a few of these axioms here.\n",
    "- $p(\\emptyset) = 0, p(A) = 1$.\n",
    "- $p(E_i) \\geq 0$ and $p(E_i) \\leq 1$ for all events $E_i$.\n",
    "- If $E_1, E_2, \\ldots, E_n$ are pairwise disjoint then $p(E_1 \\cup E_2 \\cup \\cdots \\cup E_n) = p(E_1) + \\cdots + p(E_n) $.\n",
    "\n",
    "Your proof can only use facts about sets, the  axioms above and previously proven facts in this problem. \n",
    "Please write down your proof as a bulleted list as shown below.\n",
    "\n",
    "> __Example__ Prove that if $E_1 \\subseteq E_2$ then $p(E_2 \\setminus E_1) = p(E_2) - p(E_1)$.\n",
    "\n",
    "> __Proof:__  \n",
    "> 1. $E_2 = E_1 \\cup  (E_2 \\setminus E_1) $.\n",
    "> 2. The sets $E_1, (E_2 \\setminus E_1) $ are disjoint. \n",
    "> 3. Therefore, $p(E_2) = p(E_1) + p(E_2 \\setminus E_1)$ (axiom).  \n",
    "> 4. Rearranging, $p(E_2 \\setminus E_1) = p(E_2) - p(E_1)$.\n",
    "\n",
    "(A) Prove that if $E_1 \\subseteq E_2$ then \n",
    "\n",
    "$$p(E_1) \\leq p(E_2)$$.\n",
    "\n",
    "(B) Prove the inclusion-exclusion principle: \n",
    "\n",
    "$$p(E_1 \\cup E_2) = p(E_1) + p(E_2) - p(E_1 \\cap E_2)\\,.$$\n",
    "\n",
    "\n",
    "(C) Prove Boole's Inequality:\n",
    "\n",
    "$$p(E_1) + p(E_2) - 1 \\leq p(E_1 \\cup E_2) \\leq p(E_1) + p(E_2)\\,.$$\n",
    "\n",
    "(D) Prove Frechet's Inequality:\n",
    "\n",
    "$$p(E_1) + p(E_2) -1 \\leq p(E_1 \\cap E_2) \\leq \\min( p(E_1), p(E_2) )\\,. $$\n",
    "\n",
    "\n"
   ]
  },
  {
   "cell_type": "markdown",
   "metadata": {},
   "source": [
    "## Solution (Expected Length: 25 lines)\n",
    "(A) Prove that if $E_1 \\subseteq E_2$ then \n",
    "\n",
    "$$P(E_1) \\leq P(E_2)$$.\n",
    "\n",
    "\n",
    "\n",
    "Proof:\n",
    "1. $E_2 = E_1 \\cup (E_1^\\complement \\cap E_2)$\n",
    "2. $P(E_2) = P(E_1) + P(E_1^\\complement \\cap E_2)$\n",
    "3. $P(E_1) = P(E_2) - P(E_1^\\complement \\cap E_2)$\n",
    "4. Therefore $P(E_2) \\geq P(E_1)$\n",
    "(B) Prove the inclusion-exclusion principle: \n",
    "\n",
    "$$P(E_1 \\cup E_2) = P(E_1) + P(E_2) - P(E_1 \\cap E_2)\\,.$$\n",
    "\n",
    "Proof:\n",
    "1. $E_1 \\cup E_2 = E_1 \\cup (E_1^\\complement \\cap E_2)$\n",
    "2. $P(E_1 \\cup E_2) = P(E_1) + P(E_1^\\complement \\cap E_2)$\n",
    "3. $E_2 = (E_1 \\cap E_2) \\cup (E_1^\\complement \\cap E_2)$\n",
    "4. $P(E_2) = P(E_1 \\cap E_2) + P(E_1^\\complement \\cap E_2)$\n",
    "5. $P(E_1^\\complement \\cap E_2) = P(E_2) - P(E_1 \\cap E_2)$\n",
    "6. Substitute 5 in 2\n",
    "7. $P(E_1 \\cup E_2) = P(E_1) + P(E_2) - P(E_1 \\cap E_2)$\n",
    "\n",
    "(C) Prove Boole's Inequality:\n",
    "\n",
    "$$P(E_1) + P(E_2) - 1 \\leq P(E_1 \\cup E_2) \\leq P(E_1) + P(E_2)\\,.$$\n",
    "Proof:\n",
    "1. from previous equation in B, $P(E_1 \\cup E_2) = P(E_1) + P(E_2) - P(E_1 \\cap E_2)$\n",
    "2. we can say that, $P(E_1 \\cup E_2) \\leq P(E_1) + P(E_2)$\n",
    "3. $P(E_1 \\cap E_2) \\leq 1$\n",
    "4. if we increase $P(E_1 \\cap E_2)$ to one we get,\n",
    "5. $P(E_1 \\cup E_2) \\geq P(E_1) + P(E_2)-1$\n",
    "6. Therefore, $$P(E_1) + P(E_2) - 1 \\leq P(E_1 \\cup E_2) \\leq P(E_1) + P(E_2)\\,.$$\n",
    "\n",
    "(D) Prove Frechet's Inequality:\n",
    "\n",
    "$$P(E_1) + P(E_2) -1 \\leq P(E_1 \\cap E_2) \\leq \\min( P(E_1), P(E_2) )\\,. $$\n",
    "1. from previous equation in B, $P(E_1 \\cap E_2) = P(E_1) + P(E_2) - P(E_1 \\cup E_2)$\n",
    "2. if we increase $P(E_1 \\cup E_2)$ to one we get,\n",
    "3. $P(E_1 \\cap E_2) \\geq P(E_1) + P(E_2)-1$\n",
    "4. By axiom of sets, intersection is always smaller than the original sets so,\n",
    "5. $P(E_1 \\cap E_2) \\leq P(E_1)$\n",
    "6. $P(E_1 \\cap E_2) \\leq P(E_2)$\n",
    "7. Therefore, $$P(E_1) + P(E_2) -1 \\leq P(E_1 \\cap E_2) \\leq \\min( P(E_1), P(E_2) )\\,. $$\n"
   ]
  },
  {
   "cell_type": "markdown",
   "metadata": {},
   "source": [
    "## Problem 2 (10 points)\n",
    "\n",
    "Let $X$ be a random variable that takes values in the range $\\{ 0, \\ldots, n \\} $. Show that \n",
    "\n",
    "$$ \\mathbb{E}(X) = \\sum_{i=1}^n \\mathbb{P}( X \\geq i ) = \\mathbb{P}( X \\geq 1 ) +  \\mathbb{P}( X \\geq 2  ) + \\cdots + \\mathbb{P}(X \\geq n) $$.\n",
    "\n",
    "__Hint:__ Note that $\\mathbb{E}(X) = 1 \\mathbb{P}(X = 1) + 2 \\mathbb{P}( X = 2) + \\cdots + n \\mathbb{P}(X = n)$. Show that the RHS of the equality is exactly this."
   ]
  },
  {
   "cell_type": "markdown",
   "metadata": {},
   "source": [
    "## Answer (Expected length: 6 lines)\n",
    "\n",
    "$$E(X) = 1\\cdot P(X=1) + 2\\cdot P(X=2) + ..+ n\\cdot P(X=n)$$\n",
    "$$E(X) = \\sum_{i=1}^{n} iP(X=i)$$\n",
    "$$iP(X=i) =  i(P(X\\geq i) - P(X\\geq i+1))$$\n",
    "$$E(X) = \\sum_{i=1}^{n}  i(P(X\\geq i) - P(X\\geq i+1)) $$\n",
    "$$E(X) = \\sum_{i=1}^{n} P(X\\geq i) = P(X\\geq 1) + P(X\\geq 2) + P(X\\geq 3)+...+P(X\\geq n)$$\n"
   ]
  },
  {
   "cell_type": "markdown",
   "metadata": {},
   "source": [
    "## Problem 3 (15 points)\n",
    "\n",
    "We draw two numbers independently and uniformly at random  from the set $\\{1, \\ldots, n\\}$ with replacement (i.e, the same number can be drawn twice). What is the expected value of the minimum of these two numbers? Show that this number is  $\\frac{n}{3} + O(1) $.\n",
    "\n",
    "\n",
    "\n",
    "__Hint:__ First calculate the probability that the smaller of the two numbers is $\\geq j$ for each $j \\in \\{ 1, \\ldots, n\\}$. Next use the result from the previous problem. Also note that $1^2 + 2^2 + \\cdots + n^2 = \\frac{n(n+1)(2n+1)}{6}$.\n",
    "\n",
    "__(B)__ Repeat the same calculation for the maximum of the two numbers.\n",
    "\n"
   ]
  },
  {
   "cell_type": "markdown",
   "metadata": {},
   "source": [
    "### Answer (Expected Length: 6 lines).\n",
    "$$P(X_1\\geq j) = \\sum_{j=1}^{n} \\frac{n-(j-1)}{n}$$\n",
    "$$P(X_2\\geq j) = \\sum_{j=1}^{n} \\frac{n-(j-1)}{n}$$\n",
    "$$E(min(X1, X2) = \\sum_{j=1}^{n} P(X_1\\geq j  or X_2 \\geq j)$$\n",
    "$$E(min(X1, X2) = \\sum_{j=1}^{n} P(X_1\\geq j)P(X_2 \\geq j)$$\n",
    "$$E(min(X1, X2) = \\sum_{j=1}^{n} \\left(\\frac{n-(j-1)}{n}\\right)^2 $$\n",
    "$$E(min(X1, X2) = \\frac{1}{n^2} (n+1-j)^2 $$\n",
    "$$E(min(X1, X2) = \\frac{1}{n^2} [n^2 +(n-1)^2 + (n-2)^2 +...+1] $$\n",
    "which is sum of n natural numbers, Therefore\n",
    "$$E(min(X1, X2) = \\frac{1}{n^2} \\left(\\frac{n(n+1)(2n+1)}{6}\\right)$$\n",
    "$$E(min(X1, X2) = \\frac{n}{3} + \\frac{1}{2} + \\frac{1}{6n}$$\n",
    "$$E(min(X1, X2) = \\frac{n}{3} + O(1)$$\n",
    "For maximum values \n",
    "$$P(max(X1, X2)\\geq j ) = 1- P(max(X1, X2)\\leq j)$$\n",
    "$$E(max(X1, X2) = \\sum_{j=1}^{n} 1- P(max(X_1, X_2)\\leq j)$$\n",
    "$$E(max(X1, X2) = \\sum_{j=1}^{n} 1- \\left(\\frac{j-1}{n}\\right)^2$$\n",
    "$$E(max(X1, X2) = n - \\frac{1}{n^2}\\left[0^2 + 1^2 + 3^2 + ....+(n-1)^2\\right]$$\n",
    "$$E(max(X1, X2) = n - \\frac{1}{n^2}\\left[\\frac{n(n+1)(2n+1)}{6} - n^2\\right]$$\n",
    "$$E(max(X1, X2) = \\frac{2n}{3} + O(1)$$"
   ]
  },
  {
   "cell_type": "markdown",
   "metadata": {},
   "source": [
    "## Problem 4  (10 points)\n",
    "\n",
    "\n",
    "Alice and Bob play the following game by tossing a fair (unbiased) coin. Each player takes turns starting with Alice's turn.\n",
    "- If Alice turns up heads she wins at once, or else Bob gets a turn.\n",
    "- If Bob turns up tails, he wins at once, or else Alice gets a turn.\n",
    "\n",
    "What is the probability that Alice wins?  What is the expected number of  tosses in the game?\n",
    "\n",
    "__(B, extra credit)__ Design a game between Alice and Bob where the probability that Bob wins is precisely $\\frac{21}{64}$. In each move of the game, you must specify which player gets a turn and what happens if that player wins a heads or a tails.\n",
    "\n"
   ]
  },
  {
   "cell_type": "markdown",
   "metadata": {},
   "source": [
    "### Answer (Expected Length: 4 lines).\n",
    "Sample space = { H, THH, THTHH..}\n",
    "$$P(Alice\\space wins) = \\frac{1}{2^1} + \\frac{1}{2^3} + \\frac{1}{2^5} +...$$\n",
    "$$P(Alice\\space wins) = \\frac{\\frac{1}{2}}{1-\\frac{1}{4}} $$\n",
    "$$P(Alice\\space wins) = \\frac{2}{3} $$\n",
    "Expected Value:\n",
    "$$E(X) = \\sum_{i=1}^{n}iP(X=i)$$\n",
    "$$E(X) = 1\\cdot\\frac{1}{2} + 2\\cdot\\frac{1}{2^2} + 3\\cdot\\frac{1}{2^3} + ....$$\n",
    "$$\\frac{E(X)}{2} = 1\\cdot\\frac{1}{2^2} + 2\\cdot\\frac{1}{2^3} + 3\\cdot\\frac{1}{2^4} + ....$$\n",
    "$$E(X)-\\frac{E(X)}{2} = \\frac{1}{2^1} + \\frac{1}{2^2} + \\frac{1}{2^3} +...$$\n",
    "$$E(X) = \\frac{\\frac{1}{2}}{1-\\frac{1}{2}} $$\n",
    "$$E(X) = 2$$\n",
    "Extra Credit:\n",
    "Rules:\n",
    "1. Alice wins, if she flips head or else Bob gets a turn \n",
    "2. Bob wins if Bob flips tails or else Alice gets a turn\n",
    "3. Alice always flips first to start the game and then each player takes a alternate turns.\n",
    "4. The game ends after 6 tosses.\n",
    " \n",
    "- Sample space for the game = { H, TH, TT, THH, THTT, THTHH, THTHTT}\n",
    "- Event where bo  wins = {TT, THTT, THTHTT}\n",
    "- Probability that Bob wins = $\\frac{1}{2^2} +\\frac{1}{2^4} + \\frac{1}{2^6} = \\frac{21}{64}$"
   ]
  }
 ],
 "metadata": {
  "kernelspec": {
   "display_name": "Python 3",
   "language": "python",
   "name": "python3"
  },
  "language_info": {
   "codemirror_mode": {
    "name": "ipython",
    "version": 3
   },
   "file_extension": ".py",
   "mimetype": "text/x-python",
   "name": "python",
   "nbconvert_exporter": "python",
   "pygments_lexer": "ipython3",
   "version": "3.7.1"
  }
 },
 "nbformat": 4,
 "nbformat_minor": 2
}
