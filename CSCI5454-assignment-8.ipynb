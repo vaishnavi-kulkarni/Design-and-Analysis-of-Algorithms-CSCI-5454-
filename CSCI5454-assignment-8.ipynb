{
 "cells": [
  {
   "cell_type": "markdown",
   "metadata": {},
   "source": [
    "# CSCI 5454 : Assignment 8 \n",
    "\n",
    "__Your Name:__ Vaishnavi Kulkarni\n",
    "\n",
    "Collaborated with: \n",
    "\n"
   ]
  },
  {
   "cell_type": "markdown",
   "metadata": {},
   "source": [
    "## Problem 1: Long Path Problem (10 points)\n",
    "\n",
    "Given a graph $G$, two vertices $s, t$ and a number $K$, we wish to know if there exists a (simple) path with at least $K$ edges, between $s$ and $t$ in the graph $G$. Note that a simple path cannot revisit a vertex (or an edge).\n",
    "\n",
    "Show that the long path problem is NP complete.\n",
    "\n",
    "\n"
   ]
  },
  {
   "cell_type": "markdown",
   "metadata": {},
   "source": [
    "## Answer (Expected Size: 12 lines)\n",
    "\n",
    "Certificate : we can verify in the polynomial time that given path between s and t has atleast K edges and it does not revisit a vertex. So this problem belongs to NP. \n",
    "\n",
    "Hamiltonion path problem : we find the longest path in a graph with n vertices with n-1 edges which visits each vertex only once\n",
    "\n",
    "Reduction of Hamiltonion path to given problem:\n",
    "            We can set K edges to n-1 such that we find the a path of atleast K edges which cannot revisit a vertex. if we find a yes answer to this problem using a solver then we can find a yes answer to Hamiltonion path problem using this same solver.\n",
    "            Since we can reduce Hamiltonion path problem to given problem, the given problem is NP complete\n",
    "\n"
   ]
  },
  {
   "cell_type": "markdown",
   "metadata": {},
   "source": [
    "## Problem 2: Vertex Cover Problem as an 0-1 Integer Linear Program (10 points)\n",
    "\n",
    "Consider an undirected graph $G$ with $n$ nodes and $m$ edges. A vertex cover is a subset $S$ of the\n",
    "vertices of the graph such that for every edge $e$, at least one of its end points belongs to the cover.\n",
    "We wish to find a vertex cover that involves the smallest number of vertices.\n",
    "Formulate a $0-1$ ILP for the minimal vertex cover problem.\n",
    "\n",
    "You should clearly answer the following questions:\n",
    "- What are your decision variables?\n",
    "- What are the constraints for your problem?\n",
    "- What is the objective and do you maximize it or minimize it?\n"
   ]
  },
  {
   "cell_type": "markdown",
   "metadata": {},
   "source": [
    "## Answer (Expected Size: 10 lines)\n",
    "1. Decision variables : Indicator variable for each vertex , like x1, x2, x3 and so on.\n",
    "2. Constraints: if an edge exists between two vertices then we formulate constraint for that edge such as in a graph , if there exists and edge between x1 and x2 then we say that $x1+x2\\geq 1$. Similarly we form constraints for all edges of the graph\n",
    "4. Objective is to minimize the sum of all vertices which is $\\sum_{i}^{}xi$.\n",
    "\n",
    "\n",
    "\n"
   ]
  },
  {
   "cell_type": "markdown",
   "metadata": {},
   "source": [
    "## Problem 3: Min Truth 2-SAT is NP Complete (10 points)\n",
    "\n",
    "Given that the vertex cover problem is NP-Complete: \n",
    "- Input: An undirected graph and bound K.\n",
    "- Output: Is there a vertex cover whose size is smaller than $K$. \n",
    "See previous problem for definition of vertex cover.\n",
    "\n",
    "Prove that the Min Truth 2-SAT problem is NP Complete.\n",
    "- Input: A CNF SAT problem with at most 2 variables per clause and bound $K$\n",
    "- Output: Is there a satisfying truth assignment which assigns at most $K$ variables to true.\n"
   ]
  },
  {
   "cell_type": "markdown",
   "metadata": {},
   "source": [
    "## Answer (Expected Size: 10 lines)\n",
    "Certificate : we can prove in polynomial time that given truth assignment which assigns atmost K variables to true satisfies the problem . So this problem is NP\n",
    "\n",
    "\n",
    "Reduction of vertex cover to Min Truth 2-SAT problem \n",
    "            Each vertex becomes a variable in SAT equation and we form a clause for each edge. for example consider a graph which has 5 vertices and there are edges between $(x_1, x_2), (x_3, x_4), (x_1,x_5)$\n",
    "            then SAT equation will be\n",
    "            $$SAT = (x_1 \\lor x_2) \\land (x_3 \\lor x_4) \\land (x_1 \\lor x_5)$$\n",
    "            \n",
    "            If we can find a satisfying truth assignment  to the above equation using a solver then we can find a   vertex    cover using the same solver . \n",
    "            Since we can reduce a known NP complete problem to  Min Truth 2-SAT ,  Min Truth 2-SAT is NP complete\n"
   ]
  },
  {
   "cell_type": "markdown",
   "metadata": {},
   "source": [
    "## Problem 4: ItemChoice Problem (10 points)\n",
    "\n",
    "Prove that the ItemChoice is NP complete.\n",
    "- We have items $1, \\ldots, N$. \n",
    "- Item number $i$ has cost $c_i$ and value $v_i$.\n",
    "- We wish to select a subset of items whose total cost is less than or equal to our budget $B$ \n",
    "\n",
    "The ItemChoice problem asks if a subset of items whose total costs fall below $B$ can be chosen\n",
    "such that the value of chosen items exceeds $V$.\n",
    "\n",
    "Inputs to the problem are $N, B, V $, item costs $c_1, \\ldots, c_N$, and item values $v_1, \\ldots, v_N$.\n",
    "\n",
    "**Hint:** Use the SUBSET-SUM problem as the starting point."
   ]
  },
  {
   "cell_type": "markdown",
   "metadata": {},
   "source": [
    "## Answer (Expected Size: 12 lines)\n",
    "Certificate: Given a set of items whose value exceeds V we can check in polynimial time if their total cost will fall below B. Since this problem has certificate which can be verified in polynomial time so It is an NP problem\n",
    "\n",
    "SUBSET SUM has a set S of $S_i$ numbers and a Target which is a sum of set of numbers which belongs to S. \n",
    "\n",
    "Reduction of SUBSET SUM to Item choice\n",
    "            we can rephrase the SUBSET-SUM problem by setting $c_i = v_i = S_i$ and $B = V = T$. If we can find a yes answer to item choice then we can also find a yes answer to SUBSET-SUM.   \n",
    "            Since we can reduce a known NP complete problem to Item choice problem , Item choice problem is NP complete\n",
    "            "
   ]
  },
  {
   "cell_type": "code",
   "execution_count": null,
   "metadata": {},
   "outputs": [],
   "source": []
  }
 ],
 "metadata": {
  "kernelspec": {
   "display_name": "Python 3",
   "language": "python",
   "name": "python3"
  },
  "language_info": {
   "codemirror_mode": {
    "name": "ipython",
    "version": 3
   },
   "file_extension": ".py",
   "mimetype": "text/x-python",
   "name": "python",
   "nbconvert_exporter": "python",
   "pygments_lexer": "ipython3",
   "version": "3.7.1"
  }
 },
 "nbformat": 4,
 "nbformat_minor": 2
}
