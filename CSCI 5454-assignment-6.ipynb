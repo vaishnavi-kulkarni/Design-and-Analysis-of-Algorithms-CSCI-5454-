{
 "cells": [
  {
   "cell_type": "markdown",
   "metadata": {},
   "source": [
    "     # CSCI 5454: Assignment 6\n",
    "\n",
    "Dynamic Programming\n",
    "\n",
    "__Your Name: __ Vaishnavi Kulkarni\n",
    "\n",
    "__Collaborators: __ Srishti Rawal"
   ]
  },
  {
   "cell_type": "code",
   "execution_count": null,
   "metadata": {},
   "outputs": [],
   "source": []
  },
  {
   "cell_type": "markdown",
   "metadata": {},
   "source": [
    "# Problem 1 (Longest Pattern Match, 25 points)\n",
    "\n",
    "Consider the problem of finding the longest pattern in a string. You are given a string $s$ of length $n$. For simplicity, assume that the string is made up of $4$ characters $A, T, C$ and $G$. You are also given a regular expression pattern of the form $a_1^*a_2^*\\cdots a_m^*$, that is zero or more repetitions of $a_1$, followed by zero or more repetitions of $a_2$, ... , followed by zero or more repetitions of $a_m$, wherein $a_1, \\ldots, a_m \\in \\{ A, T, C, G\\}$\n",
    "\n",
    "As an example consider the string $s:\\ ATCATTTCGAGGGG$ and the pattern $A^*T^*G^*$. \n",
    "\n",
    "You have to find the longest substring (subsequence) of $s$ that matches the regular expression \n",
    "pattern. For instance $AATTTGGGGG$ is a substring of $s$ of length $10$ that matches the pattern. Is there a longer substring that matches the pattern?\n",
    "\n",
    "\n",
    "__Inputs:__ String $s$ made up of characters $A, T, C, G$ and a pattern $p$ given as a string, as well. We do not need to specify the Kleene star next to each character in the pattern: they areimplicitly assumed to be there. "
   ]
  },
  {
   "cell_type": "markdown",
   "metadata": {},
   "source": [
    "__ (A) __ Write a recurrence $LPM(j, k)$ that represents the longest pattern match for the substring\n",
    "$s[j], \\ldots, s[n-1]$ and the sub-pattern from $p[k], \\ldots, p[m-1]$. Do not forget to write the base cases. Use Latex to make your answer readable.\n",
    "\n",
    "Also note that Python indices start at index 0 and end at index length of array - 1. Your recurrence must assume that the strings form such Python strings."
   ]
  },
  {
   "cell_type": "markdown",
   "metadata": {},
   "source": [
    "## Solution\n",
    "\n",
    "__RECURRENCE__\n",
    "\n",
    "$$LPM(i,j) = 1 + LPM(j+1, k)$$\n",
    "$$LPM(i,j) = max(LPM(j+1, k), LPM(j, k+1))$$\n",
    "with base cases as:\n",
    "$$LPM(j, k) =0; for j\\geq n$$\n",
    "$$LPM(j, k) =0; for k\\geq m$$\n",
    "\n",
    "\n",
    "\n",
    "\n",
    "\n"
   ]
  },
  {
   "cell_type": "markdown",
   "metadata": {},
   "source": [
    "## (B) Implement\n",
    "\n",
    "Implement the recursion above using memoization and recover the solution. \n",
    "\n",
    "In particular, the function `lpm(s,p)` must return a string `t` that is the longest substring of `s` and matches the pattern `p`."
   ]
  },
  {
   "cell_type": "code",
   "execution_count": 2,
   "metadata": {},
   "outputs": [],
   "source": [
    "def lpm(s, p):\n",
    "    # return a string t\n",
    "    n=len(s)\n",
    "    m=len(p)\n",
    "    lcs = [[\"\"for r in range(m)] for r in range(n)]\n",
    "    for j in range (n):\n",
    "        for k in range (m):\n",
    "            if(j<0):\n",
    "                lcs[j][k] = 0 \n",
    "            if(k<0):\n",
    "                lcs[j][k] = 0  \n",
    "            if (s[j]==p[k]):\n",
    "                lcs[j][k] = lcs[j-1][k] + s[j]\n",
    "                \n",
    "            else:\n",
    "                lcs[j][k]=max(lcs[j-1][k], lcs[j][k-1], key=len)\n",
    "    \n",
    "    \n",
    "    return (lcs[-1][-1])\n",
    "                   \n",
    "    assert(False) "
   ]
  },
  {
   "cell_type": "code",
   "execution_count": 6,
   "metadata": {},
   "outputs": [],
   "source": [
    "# TESTS: DO NOT EDIT\n",
    "# I wonder if these solutions are unique or other solutions are possible of equal length.\n",
    "# If you find other solutions, post them on piazza under a single post please.\n",
    "assert( len(lpm('ACTTTTACTTTTTGGATT','TGA')) == len('TTTTTTTTTGGA') ) \n",
    "\n",
    "assert( len(lpm('ATCATCATCTCATCATCGATTAACA', 'ACT')) == len('ATTTTTTTT') )\n",
    "assert( len(lpm('ATCCG','CT')) == 2)\n",
    "assert( len(lpm('GATTACAAAAAACTAGAGAGAGAGATTAAATACCAACACCTAT','GATAC')) == len('GATTAAAAAAAAAAAAAAAAACCCCC'))\n",
    "assert( len(lpm('GGAATTAACCAACACAA','CAT')) == len('AAAAAAAAA'))"
   ]
  },
  {
   "cell_type": "markdown",
   "metadata": {},
   "source": [
    "## Problem 2: Reduce Total Variation (25 points)\n",
    "\n",
    "You are given an array $a$ of integers of length $n$. Eg. $a = [1,2, 3, -1, 3, 2]$. \n",
    "The sum of the array is simply $sum(a) = a[0] + \\cdots + a[n-1]$. For example, $sum(a) = 10$. \n",
    "The _total variation_ is the absolute value of the difference between successive elements of the array.\n",
    "$tv(a) =   |a[0] - a[1]| + | a[1] - a[2] | + \\cdots + |a[n-2] - a[n-1] | $.\n",
    "For instance, in the example, $tv(a) =  |1-2| + | 2-3| + | 3-(-1)| + |-1-3| + |3-2| = 11$.\n",
    "\n",
    "\n",
    "You are allowed to add/substract $0, 1$ or $2$ to each element of the array such that \n",
    "(a) the sum of the array remains the same and (b) the total variation of the array is minimized.\n",
    "\n",
    "For instance, conside the array $a$ with $tv(a) = 11$.\n",
    "We can modify it as  $a = [1,2, 3\\color{red}{-1}, -1\\color{red}{+2}, 3\\color{red}{-1}, 2]$, yielding\n",
    "$[1,2,2,1,2,2]$. The sum remains unchanged but the new total variation becomes $3$.\n",
    "\n",
    "Design a dynamic programming solution that will modify each element of the array by adding/subtracting $0,1,$ or $2$ in order reduce the total variation of an array while the sum remains unchanged."
   ]
  },
  {
   "cell_type": "markdown",
   "metadata": {},
   "source": [
    "## Set Up Recursion\n",
    "\n",
    "Define a recursive function \n",
    "\n",
    "$minTV(j, S, p)$ as the minimum total variation distance solution for the sub array \n",
    "$a[j], \\ldots, a[n-1]$, starting from the index $j$ when $S$ is the total change to the sum for\n",
    "the prefix $a[0], \\ldots, a[j-1]$, and $p \\in \\{ -2, -1, 0, 1, 2 \\}$ is the change that was made to \n",
    "$a[j-1]$.\n",
    "\n",
    "Write down the base cases for this recursion. Also specify how you would call this recursion to solve the\n",
    "problem for a given array $a$.\n",
    "\n",
    "**Hint** Convince yourself why we need to track the values of $S$ and $p$ in the recurrence.\n"
   ]
  },
  {
   "cell_type": "markdown",
   "metadata": {},
   "source": [
    "## Solution\n",
    "\n",
    "__ Write Recurrence and Base Cases __\n",
    "$$minTV(a,j,s,q) = min( abs[(a[j]+0)-(a[j-1]+q)] + minTV(a, j+1, s+0, 0) ,abs[(a[j]+1)-(a[j-1]+q)] + minTV(a, j+1, s+1, 1), abs[(a[j]+2)-(a[j-1]+2)] + minTV(a, j+1, s+2, 2), abs[(a[j]-1)-(a[j-1]+q)] + minTV(a, j+1, s-1, -1), abs[(a[j]-2)-(a[j-1]-q)] + minTV(a, j+1, s-2, -2),$$\n",
    "\n",
    "Base Case:\n",
    "When j reaches last element\n",
    "$$(j==len(a))$$\n",
    "$$minTV(a,j,s,q) = \\infty if s\\neq 0$$\n",
    "$$minTV(a,j,s,q) = 0 if s=0$$\n",
    "\n",
    "                       "
   ]
  },
  {
   "cell_type": "markdown",
   "metadata": {},
   "source": [
    "## Implementation\n",
    "\n",
    "Implement a function `minimizeTotalVariation` that given an array $a$ returns an new array $\\hat{a}$ \n",
    "wherein each element of $\\hat{a}$ is obtained by adding/subtracting either 0, 1 or 2 to corresponding element of $a$ and the sum of $\\hat{a}$ equals that of $a$ but the total variation of $\\hat{a}$ is as small as possible.\n",
    "\n",
    "Note that building a memo table is slightly harder for this example. You may just want to implement the recursion and just cache previously seen recursive calls in a hashtable.\n",
    "\n",
    "__Suggestion__ Solve this problem in two steps. First implement the recursion without memoization and work on how to recover the solution. Next, use a dictionary to memoize."
   ]
  },
  {
   "cell_type": "code",
   "execution_count": 57,
   "metadata": {},
   "outputs": [],
   "source": [
    "mem_table =dict()\n",
    "def minTV(a,j,s,q):\n",
    "    ## Implement this function\n",
    "    ## minTV must return a tuple of two things: a value for the minimum total variation\n",
    "    ## .   and an array that is the solution to the problem.\n",
    "    ## You may modify this function as you will -- add more arguments for memoization etc.\n",
    "    array_1 = a[:]\n",
    "    array_2 = a[:]\n",
    "    array_4 = a[:]\n",
    "    array_5 = a[:]\n",
    "    if(tuple(a),j,s,q) in mem_table.keys():\n",
    "        return mem_table[(tuple(a),j,s,q)]\n",
    "    if j == len(a):\n",
    "        if s == 0:\n",
    "            return (calculateTotalVariation(a),a)\n",
    "        else:\n",
    "            return(float(\"inf\"), a)\n",
    "    array_1[j] = a[j]+1\n",
    "    array_2[j] = a[j]-1\n",
    "    array_4[j] = a[j]+2\n",
    "    array_5[j] = a[j]-2\n",
    "        \n",
    "    recursion = min([minTV(array_1, j+1, s+1, 1), \n",
    "                     minTV(array_2, j+1, s-1, -1),\n",
    "                     minTV(a, j+1, s, 0),\n",
    "                     minTV(array_4, j+1, s+2, 2),\n",
    "                     minTV(array_5, j+1, s-2,-2)], key = lambda z: z[0]) \n",
    "    mem_table[(tuple(a),j,s,q)] = recursion\n",
    "    return recursion\n",
    "    assert(False)   \n",
    "def minimizeTotalVariation(a):\n",
    "    ## Implement this function.\n",
    "    ## It should call minTV and return just the solution\n",
    "    ## this is the main function we will call.\n",
    "    value , array = minTV(a,0,0,0)\n",
    "    return array\n",
    "    assert(False) \n",
    "    "
   ]
  },
  {
   "cell_type": "code",
   "execution_count": 58,
   "metadata": {},
   "outputs": [],
   "source": [
    "# TEST CODE DO NOT EDIT\n",
    "def calculateTotalVariation(a):\n",
    "    n = len(a)\n",
    "    tv = 0\n",
    "    for i in range(1,n):\n",
    "        tv = tv + abs(a[i]- a[i-1])\n",
    "    return tv\n",
    "\n",
    "def checkResults(a, b):\n",
    "    sol=minimizeTotalVariation(a)\n",
    "    assert (sum(sol) == sum(a)), 'Test failed: you do not preserve the sum of elements of the array'\n",
    "    assert (calculateTotalVariation(sol) == calculateTotalVariation(b)), 'Test failed: your solution does not minimize the total variation'\n",
    "    print('Test Passed')"
   ]
  },
  {
   "cell_type": "code",
   "execution_count": 59,
   "metadata": {},
   "outputs": [
    {
     "name": "stdout",
     "output_type": "stream",
     "text": [
      "Test Passed\n"
     ]
    }
   ],
   "source": [
    "checkResults([2,1,2,-1],[1,1,1,1])"
   ]
  },
  {
   "cell_type": "code",
   "execution_count": 60,
   "metadata": {},
   "outputs": [
    {
     "name": "stdout",
     "output_type": "stream",
     "text": [
      "Test Passed\n"
     ]
    }
   ],
   "source": [
    "checkResults([1,3,4,-2,1,4,2], [3, 3, 3, 0, 0, 2, 2] ) "
   ]
  },
  {
   "cell_type": "code",
   "execution_count": 61,
   "metadata": {},
   "outputs": [
    {
     "name": "stdout",
     "output_type": "stream",
     "text": [
      "Test Passed\n"
     ]
    }
   ],
   "source": [
    "checkResults([-2,1,-1,-1],[0, -1, -1, -1])"
   ]
  },
  {
   "cell_type": "code",
   "execution_count": 62,
   "metadata": {},
   "outputs": [
    {
     "name": "stdout",
     "output_type": "stream",
     "text": [
      "Test Passed\n"
     ]
    }
   ],
   "source": [
    "checkResults([-1,-1,1,-1], [-1, -1, 0, 0])"
   ]
  },
  {
   "cell_type": "code",
   "execution_count": 63,
   "metadata": {},
   "outputs": [
    {
     "name": "stdout",
     "output_type": "stream",
     "text": [
      "Test Passed\n"
     ]
    }
   ],
   "source": [
    "checkResults([-1, -1, 3, 4, 1, 0, 9, -2, 4, -3], [-1, -1, 2, 2, 2, 2, 7, 0, 2, -1])"
   ]
  }
 ],
 "metadata": {
  "kernelspec": {
   "display_name": "Python 3",
   "language": "python",
   "name": "python3"
  },
  "language_info": {
   "codemirror_mode": {
    "name": "ipython",
    "version": 3
   },
   "file_extension": ".py",
   "mimetype": "text/x-python",
   "name": "python",
   "nbconvert_exporter": "python",
   "pygments_lexer": "ipython3",
   "version": "3.7.1"
  }
 },
 "nbformat": 4,
 "nbformat_minor": 2
}
