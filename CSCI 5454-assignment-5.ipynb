{
 "cells": [
  {
   "cell_type": "markdown",
   "metadata": {},
   "source": [
    "# Assignment 5\n",
    "\n",
    "Your Name: Vaishnavi Kulkarni\n",
    "\n",
    "Collaborated With:\n",
    "\n",
    "\n",
    "> This assignment is to be completed and uploaded to \n",
    "moodle as a python3 notebook. \n",
    "\n",
    "> Submission deadlines are posted on moodle. \n",
    "\n",
    "> The questions  provided  below will ask you to either write code or \n",
    "write answers in the form of markdown.\n",
    "\n",
    "> Markdown syntax guide is here: [click here](https://github.com/adam-p/markdown-here/wiki/Markdown-Cheatsheet)\n",
    "\n",
    "> Using markdown you can typeset formulae using latex.\n",
    "\n",
    "> This way you can write nice readable answers with formulae like thus:\n",
    "\n",
    ">> The algorithm runs in time $\\Theta\\left(n^{2.1\\log_2(\\log_2( n \\log^*(n)))}\\right)$, \n",
    "wherein $\\log^*(n)$ is the inverse _Ackerman_ function.\n",
    "\n",
    "__Double click anywhere on this box to find out how your instructor typeset it. Press Shift+Enter to go back. __\n"
   ]
  },
  {
   "cell_type": "markdown",
   "metadata": {},
   "source": [
    "## Q1: Bloom Filters (20 points)\n",
    "\n",
    "> A bloom filter is a fast set data structure that maintains a set $S$ of keys. One can insert keys into the set and test whether a given key $k$ belongs to the set. It may used in applications where the keys are ``complicated'' objects such as TCP packets or images that are expensive to compare with each other.\n",
    "\n",
    "> The data structure is an array $T$ of Booleans size $m$ with $l$ different hash functions $h_1, \\ldots, h_l$.\n",
    ">> Initially, `T[i] = FALSE` for all `i`.\n",
    "\n",
    "> If a key $k$ is to be inserted\n",
    ">> We compute $i_1 = h_1(k), \\ldots, i_l = h_l(k)$.\n",
    ">> We set $T[i_1] = \\cdots T[i_l] = \\text{TRUE}$.\n",
    "\n",
    "> __(A)__ Suppose we wish to find out if an element $k$ is a member of the set by checking if\n",
    "$T[h_1(k)], \\ldots, T[h_l(k)]$ are all true. Explain whether this can lead to a *false positive* i.e,\n",
    "the approach wrongly concludes that $k$ belongs to the set when it was never inserted; or *false negative*\n",
    "i.e, the approach wrongly concludes that $k$ does not belong to the set when it does.\n",
    "\n",
    "> __(B)__ Suppose our hash functions are guaranteed to be uniform. I.e, for any randomly chosen\n",
    "key $k$, for any hash function $h_i$ and cell $j$, \n",
    ">  $$ \\mathbb{P}( h_i(k) = j)  = \\frac{1}{m} $$\n",
    "> If $n$ keys are chosen at random and inserted into the filter, compute that probability that any given cell $T[j]$ is set to FALSE after this.\n",
    "\n",
    "> __(C)__ Use the results from previous set to estimate the probability of a false positive. I.e, some $l$ cells\n",
    "$i_1, i_2, \\ldots, i_l$ are simultaneously set to TRUE.\n"
   ]
  },
  {
   "cell_type": "markdown",
   "metadata": {},
   "source": [
    "### Answer 1 { Expected Size: 15 lines\n",
    "Part A: Let's consider that there is a key1, which produces TRUE for some indices using hash functions. After key1, key2 also has some of those indices, then it appears that key2 is present as well when it is actually not which is a false positive.\n",
    "False negative: Initially all keys are set to FALSE. If you change some values to TRUE, a key cannot change it back to FALSE. So false negative is not a possible scenario. \n",
    "\n",
    "Part B: Probability for a single key using a single hash function to not set a cell j to TRUE is:\n",
    "$${P}(  T[j] \\neq TRUE)  = \\left(1-\\frac{1}{m}\\right)$$ \n",
    "Probability for a single key using l hash functions to not set a cell j to TRUE is:\n",
    "$${P}(  T[j] \\neq TRUE)  = \\left(1-\\frac{1}{m}\\right)^l$$ \n",
    "Probability for n keys using l hash functions to not set a cell j to TRUE is:\n",
    "$${P}( T[j] \\neq TRUE)  = \\left(1-\\frac{1}{m}\\right)^{ln}$$ \n",
    "if a cell is not set to TRUE it means that it is set to False so probabilty that n keys are chosen at random and inserted it in the filter sets a cell j to FALSE is:\n",
    "$${P}( T[j]=FALSE)  = \\left(1-\\frac{1}{m}\\right)^{ln}$$ \n",
    "Part C:\n",
    " Probability that a cell will be set to true is \n",
    " $${P}( T[j]=TRUE)  = 1-\\left(1-\\frac{1}{m}\\right)^{ln}$$\n",
    " So the probabilty that some cells are set to false positive is \n",
    " $${P}( False Positive)  = \\left(1-\\left(1-\\frac{1}{m}\\right)^{ln}\\right)^l$$"
   ]
  },
  {
   "cell_type": "markdown",
   "metadata": {},
   "source": [
    "## Q2: Prove Universal Hash Function (20 points)\n",
    "\n",
    "Suppose we are interested in hashing $n$ bit keys into $m$ bit hash values to hash into a table of size\n",
    "$2^m$. We view our key  as a bit vector of $n$ bits in binary. Eg., for $n = 4$, the key $14 = \\left(\\begin{array}{c} 1\\\\ 1\\\\ 1\\\\ 0 \\end{array} \\right)$.\n",
    "\n",
    "The hash family is defined by random boolean matrices $H$ with $m$ rows and $n$ columns. To compute the hash function, we perform a matrix multiplication. Eg., with $m = 3$ and $n= 4$, we can have a matrix $H$ such as\n",
    "\n",
    "$$ H = \\left[ \\begin{array}{cccc} 0 & 1 & 0 & 1 \\\\\n",
    "1 & 0 & 0 & 0 \\\\\n",
    "1 & 0 & 1 & 1 \\\\\n",
    "\\end{array} \\right]$$.\n",
    "\n",
    "\n",
    "The value of the hash function $H(14)$ is now obtained by multiplying\n",
    "\n",
    "$$ \\left[ \\begin{array}{cccc} 0 & 1 & 0 & 1 \\\\\n",
    "1 & 0 & 0 & 0 \\\\\n",
    "1 & 0 & 1 & 1 \\\\\n",
    "\\end{array} \\right] \\times \\left( \\begin{array}{c} \n",
    "1\\\\\n",
    "1\\\\\n",
    "1\\\\\n",
    "0\\\\\n",
    "\\end{array} \\right) $$\n",
    "\n",
    "The matrix multiplication is carried out using AND for multiplication and XOR instead of addition.\n",
    "\n",
    "(A) For a given matrix $H$ and two  keys $x, y$ that differ only in their $i^{th}$ bits, provide a condition for\n",
    "$Hx = Hy$ holding. (**Hint** It may help to play with examples where you have two numbers $x, y$ that just differ at a particular bit position. Figure out which entries in the matrix are multiplied with these bits that differ).\n",
    "\n",
    "(B) Prove that the probability that two keys $x, y$ such that $x \\not= y$  collide under the random choice of a matrix $H$ is  $\\frac{1}{2^m}$. Note that $x,y$ may differ at multiple bit positions for this problem.\n"
   ]
  },
  {
   "cell_type": "markdown",
   "metadata": {},
   "source": [
    "## Answer 2 (Expected Size: 15 lines)\n",
    "\n"
   ]
  },
  {
   "cell_type": "markdown",
   "metadata": {},
   "source": [
    " Part A: Condition: The $i^{th}$ column corresponding to $i^{th} bit $ which gets multiplied to $i^{th}$ bit should have all zeroes. For example, consider the same H and for x and y only the 4th bit differs then 4th column should have all zeroes.  \n",
    "PartB: \n",
    "if two keys collide then we get the following equation.\n",
    "$$Hx=Hy$$\n",
    "$$H(x \\oplus y)=0.......(1)$$\n",
    "From above equation wherever elements of x and y differ, xor sum will be 1 and 0 wherever elements of x and y are same. Ultimately the part of rows of H corresponding to 1's of $x \\oplus y$ needs to have even number of 1's to get a zero as result of equation(1).\n",
    "$$P( \\text{getting an even number of 1's in a row}) =  \\frac{1}{2}$$. \n",
    "Therefore, \n",
    "$$P(\\text{ getting even number of 1's in m rows}) = \\frac{1}{2^m}$$ since all rows having even number of 1's are independant events. \n",
    "Which is the probability of equation 1 being true.\n",
    "Hence probability of collision is $\\frac{1}{2^m}$\n",
    "\n",
    "  "
   ]
  },
  {
   "cell_type": "code",
   "execution_count": null,
   "metadata": {},
   "outputs": [],
   "source": []
  }
 ],
 "metadata": {
  "kernelspec": {
   "display_name": "Python 3",
   "language": "python",
   "name": "python3"
  },
  "language_info": {
   "codemirror_mode": {
    "name": "ipython",
    "version": 3
   },
   "file_extension": ".py",
   "mimetype": "text/x-python",
   "name": "python",
   "nbconvert_exporter": "python",
   "pygments_lexer": "ipython3",
   "version": "3.7.1"
  }
 },
 "nbformat": 4,
 "nbformat_minor": 2
}
